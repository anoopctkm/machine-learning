{
 "cells": [
  {
   "cell_type": "markdown",
   "metadata": {},
   "source": [
    "# Machine Learning Engineer Nanodegree\n",
    "## Capstone Project\n",
    "Simon Jackson\n",
    "March 21st, 2017\n",
    "\n",
    "---"
   ]
  },
  {
   "cell_type": "code",
   "execution_count": 2,
   "metadata": {
    "collapsed": true
   },
   "outputs": [],
   "source": [
    "import os\n",
    "import zipfile"
   ]
  },
  {
   "cell_type": "markdown",
   "metadata": {
    "collapsed": true
   },
   "source": [
    "## Data\n",
    "\n",
    "Data was downloaded as .zip format..."
   ]
  },
  {
   "cell_type": "markdown",
   "metadata": {},
   "source": [
    "Extract all data from zip files into the same directory"
   ]
  },
  {
   "cell_type": "code",
   "execution_count": 9,
   "metadata": {
    "collapsed": false
   },
   "outputs": [
    {
     "name": "stdout",
     "output_type": "stream",
     "text": [
      "Extracting all from imdb-5000-movie-dataset.zip...\tDONE\n",
      "Extracting all from movielens-20m-dataset.zip...\tDONE\n"
     ]
    }
   ],
   "source": [
    "data_directory = \"data\"\n",
    "folders_to_unzip = [\"imdb-5000-movie-dataset.zip\", \"movielens-20m-dataset.zip\"]\n",
    "\n",
    "for zip_file in folders_to_unzip:\n",
    "    print \"Extracting all from \" + zip_file + \"...\\t\",\n",
    "    \n",
    "    path_to_zip_file = os.path.join(data_directory, zip_file)\n",
    "    \n",
    "    zip_ref = zipfile.ZipFile(path_to_zip_file, 'r')\n",
    "    zip_ref.extractall(data_directory)\n",
    "    zip_ref.close()\n",
    "    \n",
    "    print \"DONE\""
   ]
  },
  {
   "cell_type": "markdown",
   "metadata": {},
   "source": [
    "### IMDB data"
   ]
  }
 ],
 "metadata": {
  "anaconda-cloud": {},
  "kernelspec": {
   "display_name": "Python [conda root]",
   "language": "python",
   "name": "conda-root-py"
  },
  "language_info": {
   "codemirror_mode": {
    "name": "ipython",
    "version": 2
   },
   "file_extension": ".py",
   "mimetype": "text/x-python",
   "name": "python",
   "nbconvert_exporter": "python",
   "pygments_lexer": "ipython2",
   "version": "2.7.12"
  }
 },
 "nbformat": 4,
 "nbformat_minor": 1
}
