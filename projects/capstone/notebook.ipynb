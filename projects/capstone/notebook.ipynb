{
 "cells": [
  {
   "cell_type": "markdown",
   "metadata": {},
   "source": [
    "# Machine Learning Engineer Nanodegree\n",
    "## Capstone Project\n",
    "Simon Jackson\n",
    "March 21st, 2017\n",
    "\n",
    "---"
   ]
  },
  {
   "cell_type": "code",
   "execution_count": 12,
   "metadata": {
    "collapsed": false
   },
   "outputs": [],
   "source": [
    "import os\n",
    "import numpy as np\n",
    "import pandas as pd\n",
    "\n",
    "from scripts import utility\n",
    "\n",
    "# Pretty display for notebooks\n",
    "%matplotlib inline"
   ]
  },
  {
   "cell_type": "markdown",
   "metadata": {
    "collapsed": true
   },
   "source": [
    "## Data Importing and preprocessing\n",
    "\n",
    "Data was downloaded as .zip format..."
   ]
  },
  {
   "cell_type": "markdown",
   "metadata": {},
   "source": [
    "Extract all data from zip files into the same directory"
   ]
  },
  {
   "cell_type": "code",
   "execution_count": 3,
   "metadata": {
    "collapsed": true
   },
   "outputs": [],
   "source": [
    "# Utility variables\n",
    "data_directory = \"data\""
   ]
  },
  {
   "cell_type": "code",
   "execution_count": 4,
   "metadata": {
    "collapsed": false
   },
   "outputs": [
    {
     "name": "stdout",
     "output_type": "stream",
     "text": [
      "Extraction turned off. Check that files have been extracted.\n\nFiles in the data directory:\n\n- genome_scores.csv\n- genome_tags.csv\n- imdb-5000-movie-dataset.zip\n- link.csv\n- movie.csv\n- movielens-20m-dataset.zip\n- movie_metadata.csv\n- rating.csv\n- tag.csv\n"
     ]
    }
   ],
   "source": [
    "from scripts import extract_zips\n",
    "\n",
    "# Extract all files from zip folders in data directory,\n",
    "# into data directory\n",
    "if False:\n",
    "    extract_zips.extract_all(data_directory)\n",
    "else:\n",
    "    print \"Extraction turned off. Check that files have been extracted.\"\n",
    "    \n",
    "print \"\\nFiles in the data directory:\\n\"\n",
    "for f in os.listdir(data_directory):\n",
    "    print \"- \" + f"
   ]
  },
  {
   "cell_type": "markdown",
   "metadata": {},
   "source": [
    "### IMDB data"
   ]
  },
  {
   "cell_type": "code",
   "execution_count": 5,
   "metadata": {
    "collapsed": false
   },
   "outputs": [
    {
     "name": "stdout",
     "output_type": "stream",
     "text": [
      "data\\movie_metadata.csv read with 5043 rows and 28 columns.\nAfter prep, IMDB data set has 5043 rows and 66 columns\n"
     ]
    }
   ],
   "source": [
    "from scripts import data_imdb\n",
    "\n",
    "imdb = data_imdb.prep(data_directory)\n",
    "print 'After prep, IMDB data set has {} rows and {} columns'.format(*imdb.shape)"
   ]
  },
  {
   "cell_type": "code",
   "execution_count": 7,
   "metadata": {
    "collapsed": false
   },
   "outputs": [
    {
     "data": {
      "text/plain": [
       "color                           bool\nnum_critic_for_reviews       float64\nduration                     float64\ndirector_facebook_likes      float64\nactor_3_facebook_likes       float64\nactor_1_facebook_likes       float64\ngross                        float64\nmovie_title                   object\nnum_voted_users                int64\ncast_total_facebook_likes      int64\nfacenumber_in_poster         float64\nmovie_imdb_link               object\nnum_user_for_reviews         float64\nbudget                       float64\ntitle_year                   float64\nactor_2_facebook_likes       float64\nimdb_score                   float64\naspect_ratio                 float64\nmovie_facebook_likes           int64\nenglish                         bool\nusa                             bool\nuk                              bool\napproved                       int32\ng                              int32\ngp                             int32\nm                              int32\nnc-17                          int32\nnot rated                      int32\npassed                         int32\npg                             int32\n                              ...   \ntv-y                           int32\ntv-y7                          int32\nunrated                        int32\nx                              int32\naction                         int64\nadventure                      int64\nanimation                      int64\nbiography                      int64\ncomedy                         int64\ncrime                          int64\ndocumentary                    int64\ndrama                          int64\nfamily                         int64\nfantasy                        int64\nfilm-noir                      int64\ngame-show                      int64\nhistory                        int64\nhorror                         int64\nmusic                          int64\nmusical                        int64\nmystery                        int64\nnews                           int64\nreality-tv                     int64\nromance                        int64\nsci-fi                         int64\nshort                          int64\nsport                          int64\nthriller                       int64\nwar                            int64\nwestern                        int64\ndtype: object"
      ]
     },
     "execution_count": 7,
     "metadata": {},
     "output_type": "execute_result"
    }
   ],
   "source": [
    "# Column types\n",
    "imdb.dtypes"
   ]
  },
  {
   "cell_type": "code",
   "execution_count": 8,
   "metadata": {
    "collapsed": false
   },
   "outputs": [
    {
     "data": {
      "text/html": [
       "<div>\n",
       "<table border=\"1\" class=\"dataframe\">\n",
       "  <thead>\n",
       "    <tr style=\"text-align: right;\">\n",
       "      <th></th>\n",
       "      <th>color</th>\n",
       "      <th>num_critic_for_reviews</th>\n",
       "      <th>duration</th>\n",
       "      <th>director_facebook_likes</th>\n",
       "      <th>actor_3_facebook_likes</th>\n",
       "      <th>actor_1_facebook_likes</th>\n",
       "      <th>gross</th>\n",
       "      <th>movie_title</th>\n",
       "      <th>num_voted_users</th>\n",
       "      <th>cast_total_facebook_likes</th>\n",
       "      <th>...</th>\n",
       "      <th>mystery</th>\n",
       "      <th>news</th>\n",
       "      <th>reality-tv</th>\n",
       "      <th>romance</th>\n",
       "      <th>sci-fi</th>\n",
       "      <th>short</th>\n",
       "      <th>sport</th>\n",
       "      <th>thriller</th>\n",
       "      <th>war</th>\n",
       "      <th>western</th>\n",
       "    </tr>\n",
       "  </thead>\n",
       "  <tbody>\n",
       "    <tr>\n",
       "      <th>0</th>\n",
       "      <td>True</td>\n",
       "      <td>723.0</td>\n",
       "      <td>178.0</td>\n",
       "      <td>0.0</td>\n",
       "      <td>855.0</td>\n",
       "      <td>1000.0</td>\n",
       "      <td>760505847.0</td>\n",
       "      <td>Avatar</td>\n",
       "      <td>886204</td>\n",
       "      <td>4834</td>\n",
       "      <td>...</td>\n",
       "      <td>0</td>\n",
       "      <td>0</td>\n",
       "      <td>0</td>\n",
       "      <td>0</td>\n",
       "      <td>1</td>\n",
       "      <td>0</td>\n",
       "      <td>0</td>\n",
       "      <td>0</td>\n",
       "      <td>0</td>\n",
       "      <td>0</td>\n",
       "    </tr>\n",
       "    <tr>\n",
       "      <th>1</th>\n",
       "      <td>True</td>\n",
       "      <td>302.0</td>\n",
       "      <td>169.0</td>\n",
       "      <td>563.0</td>\n",
       "      <td>1000.0</td>\n",
       "      <td>40000.0</td>\n",
       "      <td>309404152.0</td>\n",
       "      <td>Pirates of the Caribbean: At World's End</td>\n",
       "      <td>471220</td>\n",
       "      <td>48350</td>\n",
       "      <td>...</td>\n",
       "      <td>0</td>\n",
       "      <td>0</td>\n",
       "      <td>0</td>\n",
       "      <td>0</td>\n",
       "      <td>0</td>\n",
       "      <td>0</td>\n",
       "      <td>0</td>\n",
       "      <td>0</td>\n",
       "      <td>0</td>\n",
       "      <td>0</td>\n",
       "    </tr>\n",
       "    <tr>\n",
       "      <th>2</th>\n",
       "      <td>True</td>\n",
       "      <td>602.0</td>\n",
       "      <td>148.0</td>\n",
       "      <td>0.0</td>\n",
       "      <td>161.0</td>\n",
       "      <td>11000.0</td>\n",
       "      <td>200074175.0</td>\n",
       "      <td>Spectre</td>\n",
       "      <td>275868</td>\n",
       "      <td>11700</td>\n",
       "      <td>...</td>\n",
       "      <td>0</td>\n",
       "      <td>0</td>\n",
       "      <td>0</td>\n",
       "      <td>0</td>\n",
       "      <td>0</td>\n",
       "      <td>0</td>\n",
       "      <td>0</td>\n",
       "      <td>1</td>\n",
       "      <td>0</td>\n",
       "      <td>0</td>\n",
       "    </tr>\n",
       "    <tr>\n",
       "      <th>3</th>\n",
       "      <td>True</td>\n",
       "      <td>813.0</td>\n",
       "      <td>164.0</td>\n",
       "      <td>22000.0</td>\n",
       "      <td>23000.0</td>\n",
       "      <td>27000.0</td>\n",
       "      <td>448130642.0</td>\n",
       "      <td>The Dark Knight Rises</td>\n",
       "      <td>1144337</td>\n",
       "      <td>106759</td>\n",
       "      <td>...</td>\n",
       "      <td>0</td>\n",
       "      <td>0</td>\n",
       "      <td>0</td>\n",
       "      <td>0</td>\n",
       "      <td>0</td>\n",
       "      <td>0</td>\n",
       "      <td>0</td>\n",
       "      <td>1</td>\n",
       "      <td>0</td>\n",
       "      <td>0</td>\n",
       "    </tr>\n",
       "    <tr>\n",
       "      <th>4</th>\n",
       "      <td>False</td>\n",
       "      <td>NaN</td>\n",
       "      <td>NaN</td>\n",
       "      <td>131.0</td>\n",
       "      <td>NaN</td>\n",
       "      <td>131.0</td>\n",
       "      <td>NaN</td>\n",
       "      <td>Star Wars: Episode VII - The Force Awakens    ...</td>\n",
       "      <td>8</td>\n",
       "      <td>143</td>\n",
       "      <td>...</td>\n",
       "      <td>0</td>\n",
       "      <td>0</td>\n",
       "      <td>0</td>\n",
       "      <td>0</td>\n",
       "      <td>0</td>\n",
       "      <td>0</td>\n",
       "      <td>0</td>\n",
       "      <td>0</td>\n",
       "      <td>0</td>\n",
       "      <td>0</td>\n",
       "    </tr>\n",
       "  </tbody>\n",
       "</table>\n",
       "<p>5 rows × 66 columns</p>\n",
       "</div>"
      ],
      "text/plain": [
       "<div>\n",
       "<table border=\"1\" class=\"dataframe\">\n",
       "  <thead>\n",
       "    <tr style=\"text-align: right;\">\n",
       "      <th></th>\n",
       "      <th>color</th>\n",
       "      <th>num_critic_for_reviews</th>\n",
       "      <th>duration</th>\n",
       "      <th>director_facebook_likes</th>\n",
       "      <th>actor_3_facebook_likes</th>\n",
       "      <th>actor_1_facebook_likes</th>\n",
       "      <th>gross</th>\n",
       "      <th>movie_title</th>\n",
       "      <th>num_voted_users</th>\n",
       "      <th>cast_total_facebook_likes</th>\n",
       "      <th>...</th>\n",
       "      <th>mystery</th>\n",
       "      <th>news</th>\n",
       "      <th>reality-tv</th>\n",
       "      <th>romance</th>\n",
       "      <th>sci-fi</th>\n",
       "      <th>short</th>\n",
       "      <th>sport</th>\n",
       "      <th>thriller</th>\n",
       "      <th>war</th>\n",
       "      <th>western</th>\n",
       "    </tr>\n",
       "  </thead>\n",
       "  <tbody>\n",
       "    <tr>\n",
       "      <th>0</th>\n",
       "      <td>True</td>\n",
       "      <td>723.0</td>\n",
       "      <td>178.0</td>\n",
       "      <td>0.0</td>\n",
       "      <td>855.0</td>\n",
       "      <td>1000.0</td>\n",
       "      <td>760505847.0</td>\n",
       "      <td>Avatar</td>\n",
       "      <td>886204</td>\n",
       "      <td>4834</td>\n",
       "      <td>...</td>\n",
       "      <td>0</td>\n",
       "      <td>0</td>\n",
       "      <td>0</td>\n",
       "      <td>0</td>\n",
       "      <td>1</td>\n",
       "      <td>0</td>\n",
       "      <td>0</td>\n",
       "      <td>0</td>\n",
       "      <td>0</td>\n",
       "      <td>0</td>\n",
       "    </tr>\n",
       "    <tr>\n",
       "      <th>1</th>\n",
       "      <td>True</td>\n",
       "      <td>302.0</td>\n",
       "      <td>169.0</td>\n",
       "      <td>563.0</td>\n",
       "      <td>1000.0</td>\n",
       "      <td>40000.0</td>\n",
       "      <td>309404152.0</td>\n",
       "      <td>Pirates of the Caribbean: At World's End</td>\n",
       "      <td>471220</td>\n",
       "      <td>48350</td>\n",
       "      <td>...</td>\n",
       "      <td>0</td>\n",
       "      <td>0</td>\n",
       "      <td>0</td>\n",
       "      <td>0</td>\n",
       "      <td>0</td>\n",
       "      <td>0</td>\n",
       "      <td>0</td>\n",
       "      <td>0</td>\n",
       "      <td>0</td>\n",
       "      <td>0</td>\n",
       "    </tr>\n",
       "    <tr>\n",
       "      <th>2</th>\n",
       "      <td>True</td>\n",
       "      <td>602.0</td>\n",
       "      <td>148.0</td>\n",
       "      <td>0.0</td>\n",
       "      <td>161.0</td>\n",
       "      <td>11000.0</td>\n",
       "      <td>200074175.0</td>\n",
       "      <td>Spectre</td>\n",
       "      <td>275868</td>\n",
       "      <td>11700</td>\n",
       "      <td>...</td>\n",
       "      <td>0</td>\n",
       "      <td>0</td>\n",
       "      <td>0</td>\n",
       "      <td>0</td>\n",
       "      <td>0</td>\n",
       "      <td>0</td>\n",
       "      <td>0</td>\n",
       "      <td>1</td>\n",
       "      <td>0</td>\n",
       "      <td>0</td>\n",
       "    </tr>\n",
       "    <tr>\n",
       "      <th>3</th>\n",
       "      <td>True</td>\n",
       "      <td>813.0</td>\n",
       "      <td>164.0</td>\n",
       "      <td>22000.0</td>\n",
       "      <td>23000.0</td>\n",
       "      <td>27000.0</td>\n",
       "      <td>448130642.0</td>\n",
       "      <td>The Dark Knight Rises</td>\n",
       "      <td>1144337</td>\n",
       "      <td>106759</td>\n",
       "      <td>...</td>\n",
       "      <td>0</td>\n",
       "      <td>0</td>\n",
       "      <td>0</td>\n",
       "      <td>0</td>\n",
       "      <td>0</td>\n",
       "      <td>0</td>\n",
       "      <td>0</td>\n",
       "      <td>1</td>\n",
       "      <td>0</td>\n",
       "      <td>0</td>\n",
       "    </tr>\n",
       "    <tr>\n",
       "      <th>4</th>\n",
       "      <td>False</td>\n",
       "      <td>NaN</td>\n",
       "      <td>NaN</td>\n",
       "      <td>131.0</td>\n",
       "      <td>NaN</td>\n",
       "      <td>131.0</td>\n",
       "      <td>NaN</td>\n",
       "      <td>Star Wars: Episode VII - The Force Awakens    ...</td>\n",
       "      <td>8</td>\n",
       "      <td>143</td>\n",
       "      <td>...</td>\n",
       "      <td>0</td>\n",
       "      <td>0</td>\n",
       "      <td>0</td>\n",
       "      <td>0</td>\n",
       "      <td>0</td>\n",
       "      <td>0</td>\n",
       "      <td>0</td>\n",
       "      <td>0</td>\n",
       "      <td>0</td>\n",
       "      <td>0</td>\n",
       "    </tr>\n",
       "  </tbody>\n",
       "</table>\n",
       "<p>5 rows × 66 columns</p>\n",
       "</div>"
      ]
     },
     "execution_count": 8,
     "metadata": {},
     "output_type": "execute_result"
    }
   ],
   "source": [
    "# Examine few rows\n",
    "imdb.head(n = 5)"
   ]
  },
  {
   "cell_type": "markdown",
   "metadata": {},
   "source": [
    "This information will be used for content-based filtering of movies."
   ]
  },
  {
   "cell_type": "code",
   "execution_count": 7,
   "metadata": {},
   "outputs": [
    {
     "data": {
      "image/png": "[encoded data removed]",
      "text/plain": [
       "<matplotlib.figure.Figure at 0x96e7c88>"
      ]
     },
     "metadata": {},
     "output_type": "display_data"
    }
   ],
   "source": [
    "utility.count_plot(imdb.english)"
   ]
  },
  {
   "cell_type": "code",
   "execution_count": 14,
   "metadata": {},
   "outputs": [
    {
     "data": {
      "image/png": "[encoded data removed]",
      "text/plain": [
       "<matplotlib.figure.Figure at 0x9d43908>"
      ]
     },
     "metadata": {},
     "output_type": "display_data"
    }
   ],
   "source": [
    "utility.count_plot(imdb['color'])"
   ]
  },
  {
   "cell_type": "code",
   "execution_count": 9,
   "metadata": {},
   "outputs": [
    {
     "data": {
      "image/png": "[encoded data removed]",
      "text/plain": [
       "<matplotlib.figure.Figure at 0x29f49b0>"
      ]
     },
     "metadata": {},
     "output_type": "display_data"
    }
   ],
   "source": [
    "# Visualizing counts for two major countries (USA and UK)\n",
    "utility.count_plot(imdb.usa)"
   ]
  },
  {
   "cell_type": "code",
   "execution_count": 10,
   "metadata": {},
   "outputs": [
    {
     "data": {
      "image/png": "[encoded data removed]",
      "text/plain": [
       "<matplotlib.figure.Figure at 0x99d9d68>"
      ]
     },
     "metadata": {},
     "output_type": "display_data"
    }
   ],
   "source": [
    "utility.count_plot(imdb.uk)"
   ]
  },
  {
   "cell_type": "code",
   "execution_count": 8,
   "metadata": {},
   "outputs": [
    {
     "data": {
      "image/png": "[encoded data removed]",
      "text/plain": [
       "<matplotlib.figure.Figure at 0x95e1320>"
      ]
     },
     "metadata": {},
     "output_type": "display_data"
    }
   ],
   "source": [
    "rating_dummies = pd.melt(imdb.ix[:, 'approved':'x'])\n",
    "utility.count_plot(rating_dummies.variable[rating_dummies.value == 1])"
   ]
  },
  {
   "cell_type": "code",
   "execution_count": 12,
   "metadata": {},
   "outputs": [
    {
     "data": {
      "image/png": "[encoded data removed]",
      "text/plain": [
       "<matplotlib.figure.Figure at 0x9d0cb00>"
      ]
     },
     "metadata": {},
     "output_type": "display_data"
    }
   ],
   "source": [
    "# Visualise counts of genres\n",
    "genre_dummies = pd.melt(imdb.ix[:, 'action':'western'])\n",
    "utility.count_plot(genre_dummies.variable[genre_dummies.value == 1])"
   ]
  },
  {
   "cell_type": "markdown",
   "metadata": {},
   "source": [
    "#### Categorical variables\n",
    "\n",
    "- `language`: convert to 1 = English, 0 = other\n",
    "- `genres`: will need to be split into multiple variables indicating whether certain genres were tagged.\n",
    "- `country`: 1 = USA, 0 = Other (possibly a separate one for UK?)\n",
    "- `content_rating`: will need a number of categories (R, PG, PG-13, G, etc)"
   ]
  },
  {
   "cell_type": "code",
   "execution_count": 16,
   "metadata": {},
   "outputs": [
    {
     "data": {
      "text/plain": [
       "<matplotlib.axes._subplots.AxesSubplot at 0xc7b2128>"
      ]
     },
     "execution_count": 16,
     "metadata": {},
     "output_type": "execute_result"
    },
    {
     "data": {
      "image/png": "[encoded data removed]",
      "text/plain": [
       "<matplotlib.figure.Figure at 0x9d52978>"
      ]
     },
     "metadata": {},
     "output_type": "display_data"
    }
   ],
   "source": [
    "imdb.plot.scatter('num_critic_for_reviews', 'director_facebook_likes')"
   ]
  },
  {
   "cell_type": "code",
   "execution_count": 13,
   "metadata": {},
   "outputs": [
    {
     "data": {
      "text/plain": [
       "array([[<matplotlib.axes._subplots.AxesSubplot object at 0x000000002765D978>,\n        <matplotlib.axes._subplots.AxesSubplot object at 0x000000002105E588>,\n        <matplotlib.axes._subplots.AxesSubplot object at 0x000000002586A320>,\n        <matplotlib.axes._subplots.AxesSubplot object at 0x00000000201A2B70>,\n        <matplotlib.axes._subplots.AxesSubplot object at 0x00000000201B9390>,\n        <matplotlib.axes._subplots.AxesSubplot object at 0x000000001D9D0898>,\n        <matplotlib.axes._subplots.AxesSubplot object at 0x000000002B83E470>,\n        <matplotlib.axes._subplots.AxesSubplot object at 0x000000002BA7E3C8>,\n        <matplotlib.axes._subplots.AxesSubplot object at 0x000000002B7434E0>,\n        <matplotlib.axes._subplots.AxesSubplot object at 0x000000000AD25E48>,\n        <matplotlib.axes._subplots.AxesSubplot object at 0x000000000BE50B70>,\n        <matplotlib.axes._subplots.AxesSubplot object at 0x000000000DAA7518>,\n        <matplotlib.axes._subplots.AxesSubplot object at 0x000000000E402DA0>],\n       [<matplotlib.axes._subplots.AxesSubplot object at 0x0000000019CE2D68>,\n        <matplotlib.axes._subplots.AxesSubplot object at 0x000000001080B630>,\n        <matplotlib.axes._subplots.AxesSubplot object at 0x0000000011C16630>,\n        <matplotlib.axes._subplots.AxesSubplot object at 0x000000000DFAAF98>,\n        <matplotlib.axes._subplots.AxesSubplot object at 0x0000000010F77DA0>,\n        <matplotlib.axes._subplots.AxesSubplot object at 0x0000000026DB2518>,\n        <matplotlib.axes._subplots.AxesSubplot object at 0x0000000024F0CDA0>,\n        <matplotlib.axes._subplots.AxesSubplot object at 0x0000000026A7E6D8>,\n        <matplotlib.axes._subplots.AxesSubplot object at 0x0000000025E42080>,\n        <matplotlib.axes._subplots.AxesSubplot object at 0x00000000258F9F98>,\n        <matplotlib.axes._subplots.AxesSubplot object at 0x0000000026300940>,\n        <matplotlib.axes._subplots.AxesSubplot object at 0x0000000025023080>,\n        <matplotlib.axes._subplots.AxesSubplot object at 0x0000000023C2A1D0>],\n       [<matplotlib.axes._subplots.AxesSubplot object at 0x00000000239DBA58>,\n        <matplotlib.axes._subplots.AxesSubplot object at 0x00000000229BEDD8>,\n        <matplotlib.axes._subplots.AxesSubplot object at 0x0000000029236C18>,\n        <matplotlib.axes._subplots.AxesSubplot object at 0x00000000254C26A0>,\n        <matplotlib.axes._subplots.AxesSubplot object at 0x0000000022997710>,\n        <matplotlib.axes._subplots.AxesSubplot object at 0x0000000026FA7BE0>,\n        <matplotlib.axes._subplots.AxesSubplot object at 0x00000000216E5C18>,\n        <matplotlib.axes._subplots.AxesSubplot object at 0x000000002D037748>,\n        <matplotlib.axes._subplots.AxesSubplot object at 0x0000000020206048>,\n        <matplotlib.axes._subplots.AxesSubplot object at 0x0000000027B0C9B0>,\n        <matplotlib.axes._subplots.AxesSubplot object at 0x0000000020A99278>,\n        <matplotlib.axes._subplots.AxesSubplot object at 0x00000000214BC240>,\n        <matplotlib.axes._subplots.AxesSubplot object at 0x0000000021C57AC8>],\n       [<matplotlib.axes._subplots.AxesSubplot object at 0x0000000021393A20>,\n        <matplotlib.axes._subplots.AxesSubplot object at 0x00000000200CE2E8>,\n        <matplotlib.axes._subplots.AxesSubplot object at 0x0000000021D9DE10>,\n        <matplotlib.axes._subplots.AxesSubplot object at 0x000000002127B908>,\n        <matplotlib.axes._subplots.AxesSubplot object at 0x000000001D6B01D0>,\n        <matplotlib.axes._subplots.AxesSubplot object at 0x000000001DA5BAC8>,\n        <matplotlib.axes._subplots.AxesSubplot object at 0x00000000171A5390>,\n        <matplotlib.axes._subplots.AxesSubplot object at 0x0000000026E253C8>,\n        <matplotlib.axes._subplots.AxesSubplot object at 0x0000000026C55D30>,\n        <matplotlib.axes._subplots.AxesSubplot object at 0x000000002BADE390>,\n        <matplotlib.axes._subplots.AxesSubplot object at 0x0000000026B37358>,\n        <matplotlib.axes._subplots.AxesSubplot object at 0x0000000026288BE0>,\n        <matplotlib.axes._subplots.AxesSubplot object at 0x0000000025C03E48>],\n       [<matplotlib.axes._subplots.AxesSubplot object at 0x0000000025099710>,\n        <matplotlib.axes._subplots.AxesSubplot object at 0x0000000024A5C278>,\n        <matplotlib.axes._subplots.AxesSubplot object at 0x0000000023EECD30>,\n        <matplotlib.axes._subplots.AxesSubplot object at 0x00000000236495F8>,\n        <matplotlib.axes._subplots.AxesSubplot object at 0x0000000022EAFEF0>,\n        <matplotlib.axes._subplots.AxesSubplot object at 0x0000000022D717B8>,\n        <matplotlib.axes._subplots.AxesSubplot object at 0x0000000021BC07F0>,\n        <matplotlib.axes._subplots.AxesSubplot object at 0x000000002167E198>,\n        <matplotlib.axes._subplots.AxesSubplot object at 0x00000000214177B8>,\n        <matplotlib.axes._subplots.AxesSubplot object at 0x0000000020A18780>,\n        <matplotlib.axes._subplots.AxesSubplot object at 0x000000002028C048>,\n        <matplotlib.axes._subplots.AxesSubplot object at 0x000000001FC072B0>,\n        <matplotlib.axes._subplots.AxesSubplot object at 0x000000001D89CB38>],\n       [<matplotlib.axes._subplots.AxesSubplot object at 0x000000001C43C6A0>,\n        <matplotlib.axes._subplots.AxesSubplot object at 0x000000001D4C3198>,\n        <matplotlib.axes._subplots.AxesSubplot object at 0x000000000F71EA20>,\n        <matplotlib.axes._subplots.AxesSubplot object at 0x000000003065E358>,\n        <matplotlib.axes._subplots.AxesSubplot object at 0x000000003075BBE0>,\n        <matplotlib.axes._subplots.AxesSubplot object at 0x0000000030803C18>,\n        <matplotlib.axes._subplots.AxesSubplot object at 0x00000000308CA5C0>,\n        <matplotlib.axes._subplots.AxesSubplot object at 0x000000003093DBE0>,\n        <matplotlib.axes._subplots.AxesSubplot object at 0x0000000030ACCBA8>,\n        <matplotlib.axes._subplots.AxesSubplot object at 0x0000000030BD6470>,\n        <matplotlib.axes._subplots.AxesSubplot object at 0x0000000030C396D8>,\n        <matplotlib.axes._subplots.AxesSubplot object at 0x0000000030D37F60>,\n        <matplotlib.axes._subplots.AxesSubplot object at 0x0000000030E68AC8>],\n       [<matplotlib.axes._subplots.AxesSubplot object at 0x0000000030F885C0>,\n        <matplotlib.axes._subplots.AxesSubplot object at 0x0000000031041E48>,\n        <matplotlib.axes._subplots.AxesSubplot object at 0x00000000310F7780>,\n        <matplotlib.axes._subplots.AxesSubplot object at 0x0000000031203048>,\n        <matplotlib.axes._subplots.AxesSubplot object at 0x00000000312ED080>,\n        <matplotlib.axes._subplots.AxesSubplot object at 0x00000000313B39E8>,\n        <matplotlib.axes._subplots.AxesSubplot object at 0x0000000031437048>,\n        <matplotlib.axes._subplots.AxesSubplot object at 0x0000000031585FD0>,\n        <matplotlib.axes._subplots.AxesSubplot object at 0x0000000031691898>,\n        <matplotlib.axes._subplots.AxesSubplot object at 0x0000000031738B00>,\n        <matplotlib.axes._subplots.AxesSubplot object at 0x00000000318433C8>,\n        <matplotlib.axes._subplots.AxesSubplot object at 0x00000000318DFEF0>,\n        <matplotlib.axes._subplots.AxesSubplot object at 0x00000000319F19E8>],\n       [<matplotlib.axes._subplots.AxesSubplot object at 0x0000000031AFE2B0>,\n        <matplotlib.axes._subplots.AxesSubplot object at 0x0000000031BA1BA8>,\n        <matplotlib.axes._subplots.AxesSubplot object at 0x0000000031CBD470>,\n        <matplotlib.axes._subplots.AxesSubplot object at 0x0000000031D644A8>,\n        <matplotlib.axes._subplots.AxesSubplot object at 0x0000000031E5FE10>,\n        <matplotlib.axes._subplots.AxesSubplot object at 0x0000000031E6FFD0>,\n        <matplotlib.axes._subplots.AxesSubplot object at 0x0000000032060438>,\n        <matplotlib.axes._subplots.AxesSubplot object at 0x000000003216FCC0>,\n        <matplotlib.axes._subplots.AxesSubplot object at 0x00000000321CFF28>,\n        <matplotlib.axes._subplots.AxesSubplot object at 0x00000000322DB7F0>,\n        <matplotlib.axes._subplots.AxesSubplot object at 0x00000000323CA358>,\n        <matplotlib.axes._subplots.AxesSubplot object at 0x00000000324CAE10>,\n        <matplotlib.axes._subplots.AxesSubplot object at 0x000000003260F6D8>],\n       [<matplotlib.axes._subplots.AxesSubplot object at 0x000000003266FFD0>,\n        <matplotlib.axes._subplots.AxesSubplot object at 0x00000000327BF898>,\n        <matplotlib.axes._subplots.AxesSubplot object at 0x00000000328658D0>,\n        <matplotlib.axes._subplots.AxesSubplot object at 0x000000003297E278>,\n        <matplotlib.axes._subplots.AxesSubplot object at 0x000000003297EFD0>,\n        <matplotlib.axes._subplots.AxesSubplot object at 0x0000000032B2E860>,\n        <matplotlib.axes._subplots.AxesSubplot object at 0x0000000032BF8128>,\n        <matplotlib.axes._subplots.AxesSubplot object at 0x0000000032CDF390>,\n        <matplotlib.axes._subplots.AxesSubplot object at 0x0000000032DA9C18>,\n        <matplotlib.axes._subplots.AxesSubplot object at 0x0000000032E98780>,\n        <matplotlib.axes._subplots.AxesSubplot object at 0x0000000032F68278>,\n        <matplotlib.axes._subplots.AxesSubplot object at 0x0000000033064B00>,\n        <matplotlib.axes._subplots.AxesSubplot object at 0x000000003315A438>],\n       [<matplotlib.axes._subplots.AxesSubplot object at 0x00000000332A8CC0>,\n        <matplotlib.axes._subplots.AxesSubplot object at 0x0000000033300CF8>,\n        <matplotlib.axes._subplots.AxesSubplot object at 0x000000003345B6A0>,\n        <matplotlib.axes._subplots.AxesSubplot object at 0x000000003348CCC0>,\n        <matplotlib.axes._subplots.AxesSubplot object at 0x000000003362EC88>,\n        <matplotlib.axes._subplots.AxesSubplot object at 0x00000000336F8550>,\n        <matplotlib.axes._subplots.AxesSubplot object at 0x00000000337E07B8>,\n        <matplotlib.axes._subplots.AxesSubplot object at 0x00000000338ED080>,\n        <matplotlib.axes._subplots.AxesSubplot object at 0x0000000033986BA8>,\n        <matplotlib.axes._subplots.AxesSubplot object at 0x0000000033A996A0>,\n        <matplotlib.axes._subplots.AxesSubplot object at 0x0000000033B53F28>,\n        <matplotlib.axes._subplots.AxesSubplot object at 0x0000000033C58860>,\n        <matplotlib.axes._subplots.AxesSubplot object at 0x0000000033D22128>],\n       [<matplotlib.axes._subplots.AxesSubplot object at 0x0000000033E1C160>,\n        <matplotlib.axes._subplots.AxesSubplot object at 0x0000000033F16AC8>,\n        <matplotlib.axes._subplots.AxesSubplot object at 0x0000000033F9A128>,\n        <matplotlib.axes._subplots.AxesSubplot object at 0x00000000340D50F0>,\n        <matplotlib.axes._subplots.AxesSubplot object at 0x00000000341D1978>,\n        <matplotlib.axes._subplots.AxesSubplot object at 0x0000000034235BE0>,\n        <matplotlib.axes._subplots.AxesSubplot object at 0x00000000343404A8>,\n        <matplotlib.axes._subplots.AxesSubplot object at 0x000000003442FFD0>,\n        <matplotlib.axes._subplots.AxesSubplot object at 0x00000000345ABAC8>,\n        <matplotlib.axes._subplots.AxesSubplot object at 0x00000000346B7390>,\n        <matplotlib.axes._subplots.AxesSubplot object at 0x000000003475BC88>,\n        <matplotlib.axes._subplots.AxesSubplot object at 0x0000000034867550>,\n        <matplotlib.axes._subplots.AxesSubplot object at 0x000000003490D588>],\n       [<matplotlib.axes._subplots.AxesSubplot object at 0x0000000034A08EF0>,\n        <matplotlib.axes._subplots.AxesSubplot object at 0x0000000034A4A550>,\n        <matplotlib.axes._subplots.AxesSubplot object at 0x0000000024A40978>,\n        <matplotlib.axes._subplots.AxesSubplot object at 0x0000000034C3BC18>,\n        <matplotlib.axes._subplots.AxesSubplot object at 0x0000000034CE26A0>,\n        <matplotlib.axes._subplots.AxesSubplot object at 0x0000000034DFB4A8>,\n        <matplotlib.axes._subplots.AxesSubplot object at 0x0000000034D5BE48>,\n        <matplotlib.axes._subplots.AxesSubplot object at 0x0000000034FBC898>,\n        <matplotlib.axes._subplots.AxesSubplot object at 0x00000000350C7160>,\n        <matplotlib.axes._subplots.AxesSubplot object at 0x000000003517A6A0>,\n        <matplotlib.axes._subplots.AxesSubplot object at 0x0000000035277F28>,\n        <matplotlib.axes._subplots.AxesSubplot object at 0x00000000352D2F60>,\n        <matplotlib.axes._subplots.AxesSubplot object at 0x00000000353E6908>],\n       [<matplotlib.axes._subplots.AxesSubplot object at 0x0000000035459F28>,\n        <matplotlib.axes._subplots.AxesSubplot object at 0x00000000355FFEF0>,\n        <matplotlib.axes._subplots.AxesSubplot object at 0x000000003570C7B8>,\n        <matplotlib.axes._subplots.AxesSubplot object at 0x0000000035834A20>,\n        <matplotlib.axes._subplots.AxesSubplot object at 0x00000000358BE2E8>,\n        <matplotlib.axes._subplots.AxesSubplot object at 0x000000003599BE10>,\n        <matplotlib.axes._subplots.AxesSubplot object at 0x0000000035ABC908>,\n        <matplotlib.axes._subplots.AxesSubplot object at 0x0000000035BC71D0>,\n        <matplotlib.axes._subplots.AxesSubplot object at 0x0000000035CAFAC8>,\n        <matplotlib.axes._subplots.AxesSubplot object at 0x0000000035D37390>,\n        <matplotlib.axes._subplots.AxesSubplot object at 0x0000000035E203C8>,\n        <matplotlib.axes._subplots.AxesSubplot object at 0x0000000035F2BD30>,\n        <matplotlib.axes._subplots.AxesSubplot object at 0x0000000035F6B390>]], dtype=object)"
      ]
     },
     "execution_count": 13,
     "metadata": {},
     "output_type": "execute_result"
    }
   ],
   "source": [
    "#utility.float_scatter_matrix(imdb)\n",
    "#pd.scatter_matrix(imdb.select_dtypes(include=['float64']), alpha=0.2, diagonal='kde')\n",
    "pd.scatter_matrix(imdb.iloc[:10].select_dtypes(include=['float64']), alpha=0.2, diagonal='kde')\n",
    "#list(imdb.iloc[:10].select_dtypes(include=['float64']))"
   ]
  },
  {
   "cell_type": "code",
   "execution_count": 10,
   "metadata": {
    "collapsed": false
   },
   "outputs": [
    {
     "data": {
      "text/html": [
       "<div>\n",
       "<table border=\"1\" class=\"dataframe\">\n",
       "  <thead>\n",
       "    <tr style=\"text-align: right;\">\n",
       "      <th></th>\n",
       "      <th>color</th>\n",
       "      <th>num_critic_for_reviews</th>\n",
       "      <th>duration</th>\n",
       "      <th>director_facebook_likes</th>\n",
       "      <th>actor_3_facebook_likes</th>\n",
       "      <th>actor_1_facebook_likes</th>\n",
       "      <th>gross</th>\n",
       "      <th>movie_title</th>\n",
       "      <th>num_voted_users</th>\n",
       "      <th>cast_total_facebook_likes</th>\n",
       "      <th>...</th>\n",
       "      <th>mystery</th>\n",
       "      <th>news</th>\n",
       "      <th>reality-tv</th>\n",
       "      <th>romance</th>\n",
       "      <th>sci-fi</th>\n",
       "      <th>short</th>\n",
       "      <th>sport</th>\n",
       "      <th>thriller</th>\n",
       "      <th>war</th>\n",
       "      <th>western</th>\n",
       "    </tr>\n",
       "  </thead>\n",
       "  <tbody>\n",
       "    <tr>\n",
       "      <th>0</th>\n",
       "      <td>True</td>\n",
       "      <td>723.0</td>\n",
       "      <td>178.0</td>\n",
       "      <td>0.0</td>\n",
       "      <td>855.0</td>\n",
       "      <td>1000.0</td>\n",
       "      <td>760505847.0</td>\n",
       "      <td>Avatar</td>\n",
       "      <td>886204</td>\n",
       "      <td>4834</td>\n",
       "      <td>...</td>\n",
       "      <td>0</td>\n",
       "      <td>0</td>\n",
       "      <td>0</td>\n",
       "      <td>0</td>\n",
       "      <td>1</td>\n",
       "      <td>0</td>\n",
       "      <td>0</td>\n",
       "      <td>0</td>\n",
       "      <td>0</td>\n",
       "      <td>0</td>\n",
       "    </tr>\n",
       "    <tr>\n",
       "      <th>1</th>\n",
       "      <td>True</td>\n",
       "      <td>302.0</td>\n",
       "      <td>169.0</td>\n",
       "      <td>563.0</td>\n",
       "      <td>1000.0</td>\n",
       "      <td>40000.0</td>\n",
       "      <td>309404152.0</td>\n",
       "      <td>Pirates of the Caribbean: At World's End</td>\n",
       "      <td>471220</td>\n",
       "      <td>48350</td>\n",
       "      <td>...</td>\n",
       "      <td>0</td>\n",
       "      <td>0</td>\n",
       "      <td>0</td>\n",
       "      <td>0</td>\n",
       "      <td>0</td>\n",
       "      <td>0</td>\n",
       "      <td>0</td>\n",
       "      <td>0</td>\n",
       "      <td>0</td>\n",
       "      <td>0</td>\n",
       "    </tr>\n",
       "    <tr>\n",
       "      <th>2</th>\n",
       "      <td>True</td>\n",
       "      <td>602.0</td>\n",
       "      <td>148.0</td>\n",
       "      <td>0.0</td>\n",
       "      <td>161.0</td>\n",
       "      <td>11000.0</td>\n",
       "      <td>200074175.0</td>\n",
       "      <td>Spectre</td>\n",
       "      <td>275868</td>\n",
       "      <td>11700</td>\n",
       "      <td>...</td>\n",
       "      <td>0</td>\n",
       "      <td>0</td>\n",
       "      <td>0</td>\n",
       "      <td>0</td>\n",
       "      <td>0</td>\n",
       "      <td>0</td>\n",
       "      <td>0</td>\n",
       "      <td>1</td>\n",
       "      <td>0</td>\n",
       "      <td>0</td>\n",
       "    </tr>\n",
       "  </tbody>\n",
       "</table>\n",
       "<p>3 rows × 66 columns</p>\n",
       "</div>"
      ],
      "text/plain": [
       "<div>\n",
       "<table border=\"1\" class=\"dataframe\">\n",
       "  <thead>\n",
       "    <tr style=\"text-align: right;\">\n",
       "      <th></th>\n",
       "      <th>color</th>\n",
       "      <th>num_critic_for_reviews</th>\n",
       "      <th>duration</th>\n",
       "      <th>director_facebook_likes</th>\n",
       "      <th>actor_3_facebook_likes</th>\n",
       "      <th>actor_1_facebook_likes</th>\n",
       "      <th>gross</th>\n",
       "      <th>movie_title</th>\n",
       "      <th>num_voted_users</th>\n",
       "      <th>cast_total_facebook_likes</th>\n",
       "      <th>...</th>\n",
       "      <th>mystery</th>\n",
       "      <th>news</th>\n",
       "      <th>reality-tv</th>\n",
       "      <th>romance</th>\n",
       "      <th>sci-fi</th>\n",
       "      <th>short</th>\n",
       "      <th>sport</th>\n",
       "      <th>thriller</th>\n",
       "      <th>war</th>\n",
       "      <th>western</th>\n",
       "    </tr>\n",
       "  </thead>\n",
       "  <tbody>\n",
       "    <tr>\n",
       "      <th>0</th>\n",
       "      <td>True</td>\n",
       "      <td>723.0</td>\n",
       "      <td>178.0</td>\n",
       "      <td>0.0</td>\n",
       "      <td>855.0</td>\n",
       "      <td>1000.0</td>\n",
       "      <td>760505847.0</td>\n",
       "      <td>Avatar</td>\n",
       "      <td>886204</td>\n",
       "      <td>4834</td>\n",
       "      <td>...</td>\n",
       "      <td>0</td>\n",
       "      <td>0</td>\n",
       "      <td>0</td>\n",
       "      <td>0</td>\n",
       "      <td>1</td>\n",
       "      <td>0</td>\n",
       "      <td>0</td>\n",
       "      <td>0</td>\n",
       "      <td>0</td>\n",
       "      <td>0</td>\n",
       "    </tr>\n",
       "    <tr>\n",
       "      <th>1</th>\n",
       "      <td>True</td>\n",
       "      <td>302.0</td>\n",
       "      <td>169.0</td>\n",
       "      <td>563.0</td>\n",
       "      <td>1000.0</td>\n",
       "      <td>40000.0</td>\n",
       "      <td>309404152.0</td>\n",
       "      <td>Pirates of the Caribbean: At World's End</td>\n",
       "      <td>471220</td>\n",
       "      <td>48350</td>\n",
       "      <td>...</td>\n",
       "      <td>0</td>\n",
       "      <td>0</td>\n",
       "      <td>0</td>\n",
       "      <td>0</td>\n",
       "      <td>0</td>\n",
       "      <td>0</td>\n",
       "      <td>0</td>\n",
       "      <td>0</td>\n",
       "      <td>0</td>\n",
       "      <td>0</td>\n",
       "    </tr>\n",
       "    <tr>\n",
       "      <th>2</th>\n",
       "      <td>True</td>\n",
       "      <td>602.0</td>\n",
       "      <td>148.0</td>\n",
       "      <td>0.0</td>\n",
       "      <td>161.0</td>\n",
       "      <td>11000.0</td>\n",
       "      <td>200074175.0</td>\n",
       "      <td>Spectre</td>\n",
       "      <td>275868</td>\n",
       "      <td>11700</td>\n",
       "      <td>...</td>\n",
       "      <td>0</td>\n",
       "      <td>0</td>\n",
       "      <td>0</td>\n",
       "      <td>0</td>\n",
       "      <td>0</td>\n",
       "      <td>0</td>\n",
       "      <td>0</td>\n",
       "      <td>1</td>\n",
       "      <td>0</td>\n",
       "      <td>0</td>\n",
       "    </tr>\n",
       "  </tbody>\n",
       "</table>\n",
       "<p>3 rows × 66 columns</p>\n",
       "</div>"
      ]
     },
     "execution_count": 10,
     "metadata": {},
     "output_type": "execute_result"
    }
   ],
   "source": [
    "imdb.head(3)"
   ]
  },
  {
   "cell_type": "code",
   "execution_count": null,
   "metadata": {},
   "outputs": [],
   "source": [
    ""
   ]
  },
  {
   "cell_type": "code",
   "execution_count": null,
   "metadata": {},
   "outputs": [],
   "source": [
    ""
   ]
  }
 ],
 "metadata": {
  "anaconda-cloud": {},
  "kernelspec": {
   "display_name": "Python [conda root]",
   "language": "python",
   "name": "conda-root-py"
  },
  "language_info": {
   "codemirror_mode": {
    "name": "ipython",
    "version": 2.0
   },
   "file_extension": ".py",
   "mimetype": "text/x-python",
   "name": "python",
   "nbconvert_exporter": "python",
   "pygments_lexer": "ipython2",
   "version": "2.7.12"
  }
 },
 "nbformat": 4,
 "nbformat_minor": 0
}